{
 "cells": [
  {
   "cell_type": "markdown",
   "metadata": {},
   "source": [
    "### Import stuff and setup"
   ]
  },
  {
   "cell_type": "code",
   "execution_count": 21,
   "metadata": {},
   "outputs": [],
   "source": [
    "sc.stop()"
   ]
  },
  {
   "cell_type": "code",
   "execution_count": 1,
   "metadata": {},
   "outputs": [],
   "source": [
    "from pyspark import SparkContext, SparkConf\n",
    "from pyspark.sql import SQLContext\n",
    "from pyspark.sql.types import *\n",
    "from pyspark.sql.functions import *\n",
    "\n",
    "# First setup\n",
    "conf = SparkConf().setAppName(\"BDProjectRegression\").setMaster(\"local\")\n",
    "sc = SparkContext(conf=conf)\n",
    "sqlContext = SQLContext(sc)"
   ]
  },
  {
   "cell_type": "markdown",
   "metadata": {},
   "source": [
    "### Linear regression"
   ]
  },
  {
   "cell_type": "code",
   "execution_count": 25,
   "metadata": {},
   "outputs": [],
   "source": [
    "from pyspark.ml.regression import LinearRegression\n",
    "from pyspark.ml.evaluation import RegressionEvaluator\n",
    "\n",
    "def TrainLR(trainingData,testData):\n",
    "    \n",
    "    lr = LinearRegression(maxIter=15, regParam=0.3, elasticNetParam=0.8)\n",
    "\n",
    "    # Fit the model\n",
    "    lrModel = lr.fit(trainingData)\n",
    "\n",
    "    # Print the coefficients and intercept for linear regression\n",
    "    #print(\"Coefficients: %s\" % str(lrModel.coefficients))\n",
    "    #print(\"Intercept: %s\" % str(lrModel.intercept))\n",
    "\n",
    "    # Summarize the model over the training set and print out some metrics\n",
    "    trainingSummary = lrModel.summary\n",
    "    print(\"numIterations: %d\" % trainingSummary.totalIterations)\n",
    "    #print(\"objectiveHistory: %s\" % str(trainingSummary.objectiveHistory))\n",
    "    #trainingSummary.residuals.show()\n",
    "    print(\"RMSE: %f\" % trainingSummary.rootMeanSquaredError)\n",
    "    print(\"r2: %f\" % trainingSummary.r2)\n",
    "    \n",
    "    # Evaluate on test dataset\n",
    "    #lr_predictions = lrModel.transform(testData)\n",
    "    #lr_predictions.select(\"prediction\",\"MV\",\"features\").show(5)\n",
    "    \n",
    "    test_result = lrModel.evaluate(testData)\n",
    "    print(\"Root Mean Squared Error (RMSE) on test data = %g\" % test_result.rootMeanSquaredError)\n",
    "    print(\"R2 on test data = %g\" % test_result.r2)\n",
    "    \n",
    "    #lr_evaluator = RegressionEvaluator(predictionCol=\"prediction\", \\\n",
    "    #                 labelCol='label',metricName=\"r2\")\n",
    "    #print(\"R Squared (R2) on test data = %g\" % lr_evaluator.evaluate(lr_predictions))\n",
    "    return lrModel"
   ]
  },
  {
   "cell_type": "code",
   "execution_count": null,
   "metadata": {},
   "outputs": [],
   "source": []
  },
  {
   "cell_type": "markdown",
   "metadata": {},
   "source": [
    "### Decision tree regression"
   ]
  },
  {
   "cell_type": "code",
   "execution_count": 27,
   "metadata": {},
   "outputs": [],
   "source": [
    "from pyspark.ml.regression import DecisionTreeRegressor\n",
    "\n",
    "def TrainDT(trainingData,testData):\n",
    "    # Train a DecisionTree model.\n",
    "    dt = DecisionTreeRegressor()\n",
    "\n",
    "    # Train model.  This also runs the indexer.\n",
    "    model = dt.fit(trainingData)\n",
    "\n",
    "    # Make predictions.\n",
    "    predictions = model.transform(testData)\n",
    "\n",
    "    # Select (prediction, true label) and compute test error\n",
    "    evaluator = RegressionEvaluator(\n",
    "        labelCol=\"label\", predictionCol=\"prediction\", metricName=\"rmse\")\n",
    "    rmse = evaluator.evaluate(predictions)\n",
    "    print(\"Root Mean Squared Error (RMSE) on test data = %g\" % rmse)\n",
    "    \n",
    "    evaluator = RegressionEvaluator(\n",
    "        labelCol=\"label\", predictionCol=\"prediction\", metricName=\"r2\")\n",
    "    r2 = evaluator.evaluate(predictions)\n",
    "    print(\"R2 on test data = %g\" % r2)\n",
    "    \n",
    "    return model"
   ]
  },
  {
   "cell_type": "markdown",
   "metadata": {},
   "source": [
    "### Read and prepare data, run models"
   ]
  },
  {
   "cell_type": "code",
   "execution_count": 2,
   "metadata": {},
   "outputs": [],
   "source": [
    "from utils import *"
   ]
  },
  {
   "cell_type": "markdown",
   "metadata": {},
   "source": [
    "Sgemm"
   ]
  },
  {
   "cell_type": "code",
   "execution_count": 4,
   "metadata": {},
   "outputs": [],
   "source": [
    "# Load and parse the data file, converting it to a DataFrame.\n",
    "sgemm = sqlContext.read.load('Datasets/SGEMM/sgemm_product_dataset/sgemm_product.csv', \n",
    "                          format='com.databricks.spark.csv', \n",
    "                          header='true', \n",
    "                          delimiter=',',\n",
    "                          inferSchema='true')"
   ]
  },
  {
   "cell_type": "code",
   "execution_count": 14,
   "metadata": {},
   "outputs": [],
   "source": [
    "# Averaging runtimes\n",
    "sgemm = sgemm.withColumn('Run', (sgemm['Run1 (ms)']+sgemm['Run2 (ms)']+sgemm['Run3 (ms)']+sgemm['Run4 (ms)'])/4)"
   ]
  },
  {
   "cell_type": "code",
   "execution_count": 19,
   "metadata": {},
   "outputs": [],
   "source": [
    "labelcol = \"Run\"\n",
    "readycols = sgemm.columns[:-5]\n",
    "categoricalColumns = []\n",
    "dataset = sgemm\n",
    "dataset_name = 'sgemm'\n",
    "\n",
    "trainingData,testData = Prepare(dataset,labelcol,readycols,categoricalColumns)"
   ]
  },
  {
   "cell_type": "code",
   "execution_count": 26,
   "metadata": {},
   "outputs": [
    {
     "name": "stdout",
     "output_type": "stream",
     "text": [
      "numIterations: 15\n",
      "RMSE: 34455.785291\n",
      "r2: 0.235681\n",
      "Root Mean Squared Error (RMSE) on test data = 34378.8\n",
      "R2 on test data = 0.239658\n"
     ]
    }
   ],
   "source": [
    "model = TrainLR(trainingData,testData)\n",
    "model.save('Models/'+dataset_name+'_LR')"
   ]
  },
  {
   "cell_type": "code",
   "execution_count": 28,
   "metadata": {},
   "outputs": [
    {
     "name": "stdout",
     "output_type": "stream",
     "text": [
      "Root Mean Squared Error (RMSE) on test data = 32522.8\n",
      "R2 on test data = 0.319537\n"
     ]
    }
   ],
   "source": [
    "model = TrainDT(trainingData,testData)\n",
    "model.save('Models/'+dataset_name+'_DT')"
   ]
  },
  {
   "cell_type": "markdown",
   "metadata": {},
   "source": [
    "Year"
   ]
  },
  {
   "cell_type": "code",
   "execution_count": 29,
   "metadata": {},
   "outputs": [],
   "source": [
    "# Load and parse the data file, converting it to a DataFrame.\n",
    "year = sqlContext.read.load('Datasets/Year/YearPredictionMSD.txt', \n",
    "                          format='com.databricks.spark.csv', \n",
    "                          header='false', \n",
    "                          delimiter=',',\n",
    "                          inferSchema='true')"
   ]
  },
  {
   "cell_type": "code",
   "execution_count": 31,
   "metadata": {},
   "outputs": [],
   "source": [
    "labelcol = \"_c0\"\n",
    "readycols = year.columns[1:]\n",
    "categoricalColumns = []\n",
    "dataset = year\n",
    "dataset_name = 'year'\n",
    "\n",
    "trainingData,testData = Prepare(dataset,labelcol,readycols,categoricalColumns)"
   ]
  },
  {
   "cell_type": "code",
   "execution_count": 32,
   "metadata": {},
   "outputs": [
    {
     "name": "stdout",
     "output_type": "stream",
     "text": [
      "numIterations: 16\n",
      "RMSE: 10.068330\n",
      "r2: 0.190657\n",
      "Root Mean Squared Error (RMSE) on test data = 10.0254\n",
      "R2 on test data = 0.192908\n"
     ]
    }
   ],
   "source": [
    "model = TrainLR(trainingData,testData)\n",
    "model.save('Models/'+dataset_name+'_LR')"
   ]
  },
  {
   "cell_type": "code",
   "execution_count": 33,
   "metadata": {},
   "outputs": [
    {
     "name": "stdout",
     "output_type": "stream",
     "text": [
      "Root Mean Squared Error (RMSE) on test data = 10.2704\n",
      "R2 on test data = 0.152967\n"
     ]
    }
   ],
   "source": [
    "model = TrainDT(trainingData,testData)\n",
    "model.save('Models/'+dataset_name+'_DT')"
   ]
  },
  {
   "cell_type": "code",
   "execution_count": null,
   "metadata": {},
   "outputs": [],
   "source": []
  }
 ],
 "metadata": {
  "kernelspec": {
   "display_name": "Python 3",
   "language": "python",
   "name": "python3"
  },
  "language_info": {
   "codemirror_mode": {
    "name": "ipython",
    "version": 3
   },
   "file_extension": ".py",
   "mimetype": "text/x-python",
   "name": "python",
   "nbconvert_exporter": "python",
   "pygments_lexer": "ipython3",
   "version": "3.7.1"
  }
 },
 "nbformat": 4,
 "nbformat_minor": 2
}
