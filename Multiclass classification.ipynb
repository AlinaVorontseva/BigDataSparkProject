{
 "cells": [
  {
   "cell_type": "markdown",
   "metadata": {},
   "source": [
    "### Import stuff and setup"
   ]
  },
  {
   "cell_type": "code",
   "execution_count": 1,
   "metadata": {},
   "outputs": [
    {
     "ename": "NameError",
     "evalue": "name 'sc' is not defined",
     "output_type": "error",
     "traceback": [
      "\u001b[1;31m---------------------------------------------------------------------------\u001b[0m",
      "\u001b[1;31mNameError\u001b[0m                                 Traceback (most recent call last)",
      "\u001b[1;32m<ipython-input-1-8d3513b7698b>\u001b[0m in \u001b[0;36m<module>\u001b[1;34m\u001b[0m\n\u001b[1;32m----> 1\u001b[1;33m \u001b[0msc\u001b[0m\u001b[1;33m.\u001b[0m\u001b[0mstop\u001b[0m\u001b[1;33m(\u001b[0m\u001b[1;33m)\u001b[0m\u001b[1;33m\u001b[0m\u001b[1;33m\u001b[0m\u001b[0m\n\u001b[0m",
      "\u001b[1;31mNameError\u001b[0m: name 'sc' is not defined"
     ]
    }
   ],
   "source": [
    "sc.stop()"
   ]
  },
  {
   "cell_type": "code",
   "execution_count": 2,
   "metadata": {},
   "outputs": [],
   "source": [
    "from pyspark import SparkContext, SparkConf\n",
    "from pyspark.sql import SQLContext\n",
    "from pyspark.sql.types import *\n",
    "from pyspark.sql.functions import *\n",
    "\n",
    "# First setup\n",
    "conf = SparkConf().setAppName(\"BDProject\").setMaster(\"local\")\n",
    "sc = SparkContext(conf=conf)\n",
    "sqlContext = SQLContext(sc)"
   ]
  },
  {
   "cell_type": "markdown",
   "metadata": {},
   "source": [
    "### Random forest"
   ]
  },
  {
   "cell_type": "code",
   "execution_count": 35,
   "metadata": {},
   "outputs": [],
   "source": [
    "from pyspark.ml.classification import RandomForestClassifier\n",
    "from pyspark.ml.evaluation import MulticlassClassificationEvaluator\n",
    "\n",
    "def TrainRF(trainingData,testData,numTrees=10):\n",
    "    # Train a RandomForest model.\n",
    "    rf = RandomForestClassifier(numTrees=numTrees)\n",
    "    model = rf.fit(trainingData)\n",
    "    # Make predictions.\n",
    "    predictions = model.transform(testData)\n",
    "    # Select (prediction, true label) and compute test error\n",
    "    evaluator = MulticlassClassificationEvaluator(\n",
    "    labelCol=\"label\", predictionCol=\"prediction\", metricName=\"accuracy\")\n",
    "    accuracy = evaluator.evaluate(predictions)\n",
    "    print(\"Test Error = %g, accuracy = %g\" % (1.0 - accuracy,accuracy))\n",
    "    \n",
    "    return model"
   ]
  },
  {
   "cell_type": "markdown",
   "metadata": {},
   "source": [
    "### Multi-layer perceptron"
   ]
  },
  {
   "cell_type": "code",
   "execution_count": 36,
   "metadata": {},
   "outputs": [],
   "source": [
    "from pyspark.ml.classification import MultilayerPerceptronClassifier\n",
    "\n",
    "def TrainMLP(trainingData,testData,layers):    \n",
    "    # specify layers for the neural network:\n",
    "    # input layer of size (features), two intermediate layers\n",
    "    # and output of size (classes)\n",
    "\n",
    "    # create the trainer and set its parameters\n",
    "    mlp = MultilayerPerceptronClassifier(maxIter=100, layers=layers, blockSize=128)\n",
    "\n",
    "    # train the model\n",
    "    model = mlp.fit(trainingData)\n",
    "\n",
    "    # Make predictions.\n",
    "    predictions = model.transform(testData)\n",
    "\n",
    "    # Select (prediction, true label) and compute test error\n",
    "    evaluator = MulticlassClassificationEvaluator(\n",
    "        labelCol=\"label\", predictionCol=\"prediction\", metricName=\"accuracy\")\n",
    "    accuracy = evaluator.evaluate(predictions)\n",
    "    print(\"Test Error = %g, accuracy = %g\" % (1.0 - accuracy,accuracy))\n",
    "    \n",
    "    return model"
   ]
  },
  {
   "cell_type": "markdown",
   "metadata": {},
   "source": [
    "### Read and prepare data, run models"
   ]
  },
  {
   "cell_type": "code",
   "execution_count": 6,
   "metadata": {},
   "outputs": [],
   "source": [
    "from utils import *"
   ]
  },
  {
   "cell_type": "markdown",
   "metadata": {},
   "source": [
    "Covertype"
   ]
  },
  {
   "cell_type": "code",
   "execution_count": 23,
   "metadata": {},
   "outputs": [],
   "source": [
    "# Load and parse the data file, converting it to a DataFrame.\n",
    "covertype = sqlContext.read.load('Datasets/Covertype/covtype.data', \n",
    "                          format='com.databricks.spark.csv', \n",
    "                          header='false', \n",
    "                          inferSchema='true')"
   ]
  },
  {
   "cell_type": "code",
   "execution_count": 37,
   "metadata": {},
   "outputs": [],
   "source": [
    "labelcol = \"_c54\"\n",
    "readycols = covertype.columns[0:-1]\n",
    "dataset = covertype\n",
    "nclasses = 7\n",
    "dataset_name = 'covertype'\n",
    "\n",
    "trainingData,testData = Prepare(dataset,labelcol,readycols,[])"
   ]
  },
  {
   "cell_type": "code",
   "execution_count": null,
   "metadata": {},
   "outputs": [],
   "source": [
    "model = TrainRF(trainingData,testData)\n",
    "model.save('Models/'+dataset_name+'_RF')"
   ]
  },
  {
   "cell_type": "code",
   "execution_count": null,
   "metadata": {},
   "outputs": [],
   "source": [
    "layers = [len(trainingData.select('features').take(1)[0][0]), 100, 100, nclasses]\n",
    "model = TrainMLP(trainingData,testData,layers)\n",
    "model.save('Models/'+dataset_name+'_MLP')"
   ]
  },
  {
   "cell_type": "markdown",
   "metadata": {},
   "source": [
    "Wearable"
   ]
  },
  {
   "cell_type": "code",
   "execution_count": 7,
   "metadata": {},
   "outputs": [],
   "source": [
    "# Load and parse the data file, converting it to a DataFrame.\n",
    "wearable = sqlContext.read.load('Datasets/Wearable/dataset-har-PUC-Rio-ugulino.csv', \n",
    "                          format='com.databricks.spark.csv', \n",
    "                          header='true', \n",
    "                          delimiter=';',\n",
    "                          inferSchema='true')"
   ]
  },
  {
   "cell_type": "code",
   "execution_count": 8,
   "metadata": {},
   "outputs": [],
   "source": [
    "strtodouble = ['how_tall_in_meters','body_mass_index','z4']\n",
    "for col in strtodouble:\n",
    "    wearable = wearable.withColumn(col, regexp_replace(col, ',', '.'))\n",
    "    wearable = wearable.withColumn(col, wearable[col].cast(\"double\"))"
   ]
  },
  {
   "cell_type": "code",
   "execution_count": 9,
   "metadata": {},
   "outputs": [],
   "source": [
    "wearable = wearable.na.drop(subset=[\"z4\"])"
   ]
  },
  {
   "cell_type": "code",
   "execution_count": 10,
   "metadata": {},
   "outputs": [],
   "source": [
    "labelcol = \"class\"\n",
    "readycols = [k for k,v in wearable.dtypes if v in ['int','double']]\n",
    "categoricalColumns = [k for k,v in wearable.dtypes if v == 'string' and k!= labelcol]\n",
    "dataset = wearable\n",
    "nclasses = 5\n",
    "dataset_name = 'wearable'\n",
    "\n",
    "trainingData,testData = Prepare(dataset,labelcol,readycols,categoricalColumns)"
   ]
  },
  {
   "cell_type": "code",
   "execution_count": 68,
   "metadata": {},
   "outputs": [
    {
     "name": "stdout",
     "output_type": "stream",
     "text": [
      "Test Error = 0.126227, accuracy = 0.873773\n"
     ]
    }
   ],
   "source": [
    "accuracy, model = TrainRF(trainingData,testData)\n",
    "model.save('Models/'+dataset_name+'_RF')"
   ]
  },
  {
   "cell_type": "code",
   "execution_count": null,
   "metadata": {},
   "outputs": [],
   "source": [
    "layers = [len(trainingData.select('features').take(1)[0][0]), 100, 100, nclasses]\n",
    "accuracy, model = TrainMLP(trainingData,testData,layers)\n",
    "model.save('Models/'+dataset_name+'_MLP')"
   ]
  },
  {
   "cell_type": "code",
   "execution_count": null,
   "metadata": {},
   "outputs": [],
   "source": []
  }
 ],
 "metadata": {
  "kernelspec": {
   "display_name": "Python 3",
   "language": "python",
   "name": "python3"
  },
  "language_info": {
   "codemirror_mode": {
    "name": "ipython",
    "version": 3
   },
   "file_extension": ".py",
   "mimetype": "text/x-python",
   "name": "python",
   "nbconvert_exporter": "python",
   "pygments_lexer": "ipython3",
   "version": "3.7.1"
  }
 },
 "nbformat": 4,
 "nbformat_minor": 2
}
